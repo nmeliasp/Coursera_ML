{
 "cells": [
  {
   "cell_type": "code",
   "execution_count": 1,
   "metadata": {
    "collapsed": false
   },
   "outputs": [
    {
     "name": "stdout",
     "output_type": "stream",
     "text": [
      "0\n",
      "0\n",
      "0\n",
      "0\n"
     ]
    }
   ],
   "source": [
    "def Threshold(num):    \n",
    "  if num > 0:        \n",
    "    return 1    \n",
    "  else:        \n",
    "    return 0\n",
    "\n",
    "inputs = [\n",
    "  [0, 0],\n",
    "  [0, 1],\n",
    "  [1, 0],\n",
    "  [1, 1]\n",
    "]\n",
    "\n",
    "z1_weight = [1, 1]\n",
    "z2_weight = [-1, -1]\n",
    "z3_weight = [1, 1]\n",
    "\n",
    "z1_bias = -1.5\n",
    "z2_bias = 1.5\n",
    "z3_bias = -1.5\n",
    "\n",
    "for x in inputs:    \n",
    "  z1 = Threshold(z1_bias + z1_weight[0] * x[0] + z1_weight[1] * x[1])\n",
    "  z2 = Threshold(z2_bias + z2_weight[0] * x[0] + z2_weight[1] * x[1])\n",
    "  z3 = Threshold(z3_bias + z1 * z3_weight[0] + z2 * z3_weight[1])   \n",
    "  print(z3)"
   ]
  },
  {
   "cell_type": "code",
   "execution_count": 2,
   "metadata": {
    "collapsed": false
   },
   "outputs": [
    {
     "name": "stderr",
     "output_type": "stream",
     "text": [
      "/Users/e/anaconda2/envs/gl-env/lib/python2.7/site-packages/matplotlib/font_manager.py:273: UserWarning: Matplotlib is building the font cache using fc-list. This may take a moment.\n",
      "  warnings.warn('Matplotlib is building the font cache using fc-list. This may take a moment.')\n"
     ]
    }
   ],
   "source": [
    "import numpy as np \n",
    "import matplotlib.pyplot as plt \n",
    "from mpl_toolkits.mplot3d import Axes3D"
   ]
  },
  {
   "cell_type": "code",
   "execution_count": 3,
   "metadata": {
    "collapsed": false
   },
   "outputs": [
    {
     "name": "stdout",
     "output_type": "stream",
     "text": [
      "to_x1_and_x2: [0, 0, 0, 1]\n",
      "x1_and_x2_to: [0, 0, 0, 1]\n",
      "Match? : True\n",
      "to_x1_and_x2: [1, 1, 1, 0]\n",
      "x1_and_x2_to: [1, 0, 0, 0]\n",
      "Match? : False\n",
      "to_x1_and_x2: [0, 0, 0, 1]\n",
      "x1_and_x2_to: [0, 1, 1, 1]\n",
      "Match? : False\n"
     ]
    }
   ],
   "source": [
    "data_2d = [\n",
    "    (0, 0),\n",
    "    (0, 1),\n",
    "    (1, 0),\n",
    "    (1, 1)\n",
    "]\n",
    "\n",
    "z1_weight = (1, 1)\n",
    "z2_weight = (-1, -1)\n",
    "z3_weight = (1, 1)\n",
    "\n",
    "c = (-1.5, 1.5, -1.5)\n",
    "\n",
    "z1 = lambda x1, x2: x1 and x2 \n",
    "z2 = lambda x1, x2: not x1 and not x2\n",
    "z3 = lambda x1, x2: x1 or x2\n",
    "\n",
    "x1_and_x2_to = []\n",
    "to_x1_and_x2 = []\n",
    "\n",
    "for index, (func, weight) in enumerate(zip([z1,z2,z3], [z1_weight, z2_weight, z3_weight])):\n",
    "    for pair in data_2d:\n",
    "        x1_and_x2_to.append(int(func(x1=pair[0], x2=pair[1])))\n",
    "        to_x1_and_x2.append(weight[0] * pair[0] + weight[1] * pair[1] + c[index])\n",
    "    to_x1_and_x2 = map(lambda x: 1 if x > 0 else 0, to_x1_and_x2)\n",
    "\n",
    "    print(\"to_x1_and_x2: {}\".format(to_x1_and_x2))\n",
    "    print(\"x1_and_x2_to: {}\".format(x1_and_x2_to))\n",
    "    print(\"Match? : {}\".format(reduce(lambda x, y: x and y, map(lambda (x, y): x == y, zip(to_x1_and_x2, x1_and_x2_to)))))\n",
    "\n",
    "    x1_and_x2_to = []\n",
    "    to_x1_and_x2 = []"
   ]
  },
  {
   "cell_type": "code",
   "execution_count": 4,
   "metadata": {
    "collapsed": true
   },
   "outputs": [],
   "source": [
    "data = [\n",
    "    (0, 0, 0),\n",
    "    (0, 0, 1),\n",
    "    (0, 1, 0),\n",
    "    (0, 1, 1),\n",
    "    (1, 0, 0),\n",
    "    (1, 0, 1),\n",
    "    (1, 1, 0),\n",
    "    (1, 1, 1),\n",
    "]\n",
    "\n",
    "logics = ('and', 'and', 'not')\n",
    "\n",
    "def get_label(point):\n",
    "    x, y, z = point\n",
    "\n",
    "    result = eval(\"{} {} {} {} {} {}\".format(x, logics[0], y, logics[1], logics[2], z))\n",
    "    if result == False:\n",
    "        return 0\n",
    "    elif result == True:\n",
    "        return 1\n",
    "\n",
    "ax = plt.subplot(111, projection='3d')\n",
    "for point in data:\n",
    "    ax.scatter(point[0], point[1], point[2], c='g')\n",
    "    ax.text(point[0], point[1], point[2], get_label(point), size=10, zorder=1, color='k')\n",
    "\n",
    "ax.set_zlabel('Z')\n",
    "ax.set_ylabel('Y')\n",
    "ax.set_xlabel('X')\n",
    "\n",
    "plt.show()"
   ]
  },
  {
   "cell_type": "code",
   "execution_count": null,
   "metadata": {
    "collapsed": true
   },
   "outputs": [],
   "source": []
  }
 ],
 "metadata": {
  "kernelspec": {
   "display_name": "Python 2",
   "language": "python",
   "name": "python2"
  },
  "language_info": {
   "codemirror_mode": {
    "name": "ipython",
    "version": 2
   },
   "file_extension": ".py",
   "mimetype": "text/x-python",
   "name": "python",
   "nbconvert_exporter": "python",
   "pygments_lexer": "ipython2",
   "version": "2.7.11"
  }
 },
 "nbformat": 4,
 "nbformat_minor": 0
}
